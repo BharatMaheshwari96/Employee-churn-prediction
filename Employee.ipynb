{
 "cells": [
  {
   "cell_type": "code",
   "execution_count": 1,
   "metadata": {},
   "outputs": [],
   "source": [
    "import numpy as np\n",
    "import pandas as pd\n",
    "import matplotlib.pyplot as plt\n",
    "from sklearn.preprocessing import StandardScaler\n",
    "from sklearn.decomposition import PCA\n",
    "from sklearn.cluster import KMeans\n",
    "from sklearn.manifold import TSNE\n",
    "import plotly.graph_objs as go\n",
    "import plotly .offline as offline\n",
    "import plotly.figure_factory as ff"
   ]
  },
  {
   "cell_type": "code",
   "execution_count": 2,
   "metadata": {},
   "outputs": [
    {
     "name": "stdout",
     "output_type": "stream",
     "text": [
      "   Age BusinessTravel       Department  DistanceFromHome  Education  \\\n",
      "0   46  Travel_Rarely  Human Resources                 5          2   \n",
      "1   37  Travel_Rarely  Human Resources                 6          4   \n",
      "2   59     Non-Travel  Human Resources                 2          4   \n",
      "3   54     Non-Travel  Human Resources                26          3   \n",
      "4   26  Travel_Rarely  Human Resources                25          1   \n",
      "\n",
      "    EducationField  EnvironmentSatisfaction  Gender  JobInvolvement  JobLevel  \\\n",
      "0          Medical                        2    Male               3         2   \n",
      "1  Human Resources                        3    Male               3         1   \n",
      "2  Human Resources                        3  Female               2         5   \n",
      "3  Human Resources                        4  Female               4         4   \n",
      "4    Life Sciences                        3  Female               3         1   \n",
      "\n",
      "   ... PercentSalaryHike  PerformanceRating StockOptionLevel  \\\n",
      "0  ...                22                  4                1   \n",
      "1  ...                22                  4                0   \n",
      "2  ...                21                  4                1   \n",
      "3  ...                12                  3                0   \n",
      "4  ...                23                  4                1   \n",
      "\n",
      "   TotalWorkingYears  TrainingTimesLastYear WorkLifeBalance  YearsAtCompany  \\\n",
      "0                 16                      2               3               4   \n",
      "1                  7                      3               3               3   \n",
      "2                 30                      3               3               3   \n",
      "3                 23                      3               3               5   \n",
      "4                  8                      3               3               8   \n",
      "\n",
      "   YearsInCurrentRole  YearsSinceLastPromotion  YearsWithCurrManager  \n",
      "0                   2                        0                     2  \n",
      "1                   2                        0                     2  \n",
      "2                   2                        2                     2  \n",
      "3                   3                        4                     4  \n",
      "4                   7                        5                     7  \n",
      "\n",
      "[5 rows x 26 columns]\n",
      "(1470, 26)\n",
      "<class 'pandas.core.frame.DataFrame'>\n",
      "RangeIndex: 1470 entries, 0 to 1469\n",
      "Data columns (total 26 columns):\n",
      "Age                        1470 non-null int64\n",
      "BusinessTravel             1470 non-null object\n",
      "Department                 1470 non-null object\n",
      "DistanceFromHome           1470 non-null int64\n",
      "Education                  1470 non-null int64\n",
      "EducationField             1470 non-null object\n",
      "EnvironmentSatisfaction    1470 non-null int64\n",
      "Gender                     1470 non-null object\n",
      "JobInvolvement             1470 non-null int64\n",
      "JobLevel                   1470 non-null int64\n",
      "JobRole                    1470 non-null object\n",
      "JobSatisfaction            1470 non-null int64\n",
      "MaritalStatus              1470 non-null object\n",
      "MonthlyIncome              1470 non-null int64\n",
      "NumCompaniesWorked         1470 non-null int64\n",
      "OverTime                   1470 non-null object\n",
      "PercentSalaryHike          1470 non-null int64\n",
      "PerformanceRating          1470 non-null int64\n",
      "StockOptionLevel           1470 non-null int64\n",
      "TotalWorkingYears          1470 non-null int64\n",
      "TrainingTimesLastYear      1470 non-null int64\n",
      "WorkLifeBalance            1470 non-null int64\n",
      "YearsAtCompany             1470 non-null int64\n",
      "YearsInCurrentRole         1470 non-null int64\n",
      "YearsSinceLastPromotion    1470 non-null int64\n",
      "YearsWithCurrManager       1470 non-null int64\n",
      "dtypes: int64(19), object(7)\n",
      "memory usage: 298.7+ KB\n",
      "None\n",
      "               Age  DistanceFromHome    Education  EnvironmentSatisfaction  \\\n",
      "count  1470.000000       1470.000000  1470.000000              1470.000000   \n",
      "mean     36.923810          9.192517     2.912925                 2.721769   \n",
      "std       9.135373          8.106864     1.024165                 1.093082   \n",
      "min      18.000000          1.000000     1.000000                 1.000000   \n",
      "25%      30.000000          2.000000     2.000000                 2.000000   \n",
      "50%      36.000000          7.000000     3.000000                 3.000000   \n",
      "75%      43.000000         14.000000     4.000000                 4.000000   \n",
      "max      60.000000         29.000000     5.000000                 4.000000   \n",
      "\n",
      "       JobInvolvement     JobLevel  JobSatisfaction  MonthlyIncome  \\\n",
      "count     1470.000000  1470.000000      1470.000000    1470.000000   \n",
      "mean         2.729932     2.063946         2.728571    6502.931293   \n",
      "std          0.711561     1.106940         1.102846    4707.956783   \n",
      "min          1.000000     1.000000         1.000000    1009.000000   \n",
      "25%          2.000000     1.000000         2.000000    2911.000000   \n",
      "50%          3.000000     2.000000         3.000000    4919.000000   \n",
      "75%          3.000000     3.000000         4.000000    8379.000000   \n",
      "max          4.000000     5.000000         4.000000   19999.000000   \n",
      "\n",
      "       NumCompaniesWorked  PercentSalaryHike  PerformanceRating  \\\n",
      "count         1470.000000        1470.000000        1470.000000   \n",
      "mean             2.693197          15.209524           3.153741   \n",
      "std              2.498009           3.659938           0.360824   \n",
      "min              0.000000          11.000000           3.000000   \n",
      "25%              1.000000          12.000000           3.000000   \n",
      "50%              2.000000          14.000000           3.000000   \n",
      "75%              4.000000          18.000000           3.000000   \n",
      "max              9.000000          25.000000           4.000000   \n",
      "\n",
      "       StockOptionLevel  TotalWorkingYears  TrainingTimesLastYear  \\\n",
      "count       1470.000000        1470.000000            1470.000000   \n",
      "mean           0.793878          11.279592               2.799320   \n",
      "std            0.852077           7.780782               1.289271   \n",
      "min            0.000000           0.000000               0.000000   \n",
      "25%            0.000000           6.000000               2.000000   \n",
      "50%            1.000000          10.000000               3.000000   \n",
      "75%            1.000000          15.000000               3.000000   \n",
      "max            3.000000          40.000000               6.000000   \n",
      "\n",
      "       WorkLifeBalance  YearsAtCompany  YearsInCurrentRole  \\\n",
      "count      1470.000000     1470.000000         1470.000000   \n",
      "mean          2.761224        7.008163            4.229252   \n",
      "std           0.706476        6.126525            3.623137   \n",
      "min           1.000000        0.000000            0.000000   \n",
      "25%           2.000000        3.000000            2.000000   \n",
      "50%           3.000000        5.000000            3.000000   \n",
      "75%           3.000000        9.000000            7.000000   \n",
      "max           4.000000       40.000000           18.000000   \n",
      "\n",
      "       YearsSinceLastPromotion  YearsWithCurrManager  \n",
      "count              1470.000000           1470.000000  \n",
      "mean                  2.187755              4.123129  \n",
      "std                   3.222430              3.568136  \n",
      "min                   0.000000              0.000000  \n",
      "25%                   0.000000              2.000000  \n",
      "50%                   1.000000              3.000000  \n",
      "75%                   3.000000              7.000000  \n",
      "max                  15.000000             17.000000  \n"
     ]
    }
   ],
   "source": [
    "# Importing dataset and examining it\n",
    "dataset = pd.read_csv(\"Employees.csv\")\n",
    "print(dataset.head())\n",
    "print(dataset.shape)\n",
    "print(dataset.info())\n",
    "print(dataset.describe())"
   ]
  },
  {
   "cell_type": "code",
   "execution_count": 3,
   "metadata": {},
   "outputs": [
    {
     "name": "stdout",
     "output_type": "stream",
     "text": [
      "<class 'pandas.core.frame.DataFrame'>\n",
      "RangeIndex: 1470 entries, 0 to 1469\n",
      "Data columns (total 26 columns):\n",
      "Age                        1470 non-null int64\n",
      "BusinessTravel             1470 non-null int64\n",
      "Department                 1470 non-null int64\n",
      "DistanceFromHome           1470 non-null int64\n",
      "Education                  1470 non-null int64\n",
      "EducationField             1470 non-null int64\n",
      "EnvironmentSatisfaction    1470 non-null int64\n",
      "Gender                     1470 non-null int64\n",
      "JobInvolvement             1470 non-null int64\n",
      "JobLevel                   1470 non-null int64\n",
      "JobRole                    1470 non-null int64\n",
      "JobSatisfaction            1470 non-null int64\n",
      "MaritalStatus              1470 non-null int64\n",
      "MonthlyIncome              1470 non-null int64\n",
      "NumCompaniesWorked         1470 non-null int64\n",
      "OverTime                   1470 non-null int64\n",
      "PercentSalaryHike          1470 non-null int64\n",
      "PerformanceRating          1470 non-null int64\n",
      "StockOptionLevel           1470 non-null int64\n",
      "TotalWorkingYears          1470 non-null int64\n",
      "TrainingTimesLastYear      1470 non-null int64\n",
      "WorkLifeBalance            1470 non-null int64\n",
      "YearsAtCompany             1470 non-null int64\n",
      "YearsInCurrentRole         1470 non-null int64\n",
      "YearsSinceLastPromotion    1470 non-null int64\n",
      "YearsWithCurrManager       1470 non-null int64\n",
      "dtypes: int64(26)\n",
      "memory usage: 298.7 KB\n",
      "None\n"
     ]
    }
   ],
   "source": [
    "# Converting Categorical features into Numerical features\n",
    "dataset['BusinessTravel'] = dataset['BusinessTravel'].map({'Non-Travel':0, 'Travel_Rarely':1, 'Travel_Frequently':2})\n",
    "dataset['Department'] = dataset['Department'].map({'Human Resources':0, 'Research & Development':1, 'Sales':2})\n",
    "dataset['EducationField'] = dataset['EducationField'].map({'Medical':0, 'Human Resources':1, 'Life Sciences':2, 'Technical Degree':3, 'Marketing':4, 'Other': 5})\n",
    "dataset['JobRole'] = dataset['JobRole'].map({'Healthcare Representative':0, 'Human Resources':1, 'Laboratory Technician':2, 'Manager':3, 'Manufacturing Director':4, 'Research Director': 5, 'Research Scientist':6, 'Sales Executive':7, 'Sales Representative':8})\n",
    "dataset['MaritalStatus'] = dataset['MaritalStatus'].map({'Divorced':0, 'Married':1, 'Single':2})\n",
    "dataset['Gender'] = dataset['Gender'].map({'Male':0, 'Female':1})\n",
    "dataset['OverTime'] = dataset['OverTime'].map({'No':0, 'Yes':1})\n",
    "\n",
    "print(dataset.info())"
   ]
  },
  {
   "cell_type": "code",
   "execution_count": 4,
   "metadata": {},
   "outputs": [
    {
     "data": {
      "text/plain": [
       "'corrheatmap.html'"
      ]
     },
     "execution_count": 4,
     "metadata": {},
     "output_type": "execute_result"
    }
   ],
   "source": [
    "# Plotting Correlation Heatmap\n",
    "corrs = dataset.corr()\n",
    "figure = ff.create_annotated_heatmap(\n",
    "    z=corrs.values,\n",
    "    x=list(corrs.columns),\n",
    "    y=list(corrs.index),\n",
    "    annotation_text=corrs.round(2).values,\n",
    "    showscale=True)\n",
    "offline.plot(figure,filename='corrheatmap.html')"
   ]
  },
  {
   "cell_type": "code",
   "execution_count": 5,
   "metadata": {},
   "outputs": [
    {
     "name": "stdout",
     "output_type": "stream",
     "text": [
      "<class 'pandas.core.frame.DataFrame'>\n",
      "(1470, 20)\n"
     ]
    }
   ],
   "source": [
    "# Dropping columns with high correlation + causation\n",
    "X = dataset.drop(['YearsWithCurrManager','TotalWorkingYears','YearsAtCompany', 'PercentSalaryHike', 'JobLevel', 'JobRole'], axis = 1)\n",
    "print(type(X))\n",
    "print(X.shape)\n",
    "\n",
    "# Dividing data into subsets\n",
    "#Personal Data\n",
    "subset1 = X[['Age','Gender','MaritalStatus','Education', 'EducationField', 'DistanceFromHome' ]]\n",
    "\n",
    "#Work Data\n",
    "subset2 = X[['Department','BusinessTravel','OverTime','StockOptionLevel','TrainingTimesLastYear','YearsSinceLastPromotion','PerformanceRating']]\n",
    "\n",
    "#Life Quality Data\n",
    "subset3 = X[['JobSatisfaction', 'EnvironmentSatisfaction', 'JobInvolvement', 'WorkLifeBalance']]\n",
    "\n",
    "#Churn factors\n",
    "subset4 = X[['JobSatisfaction', 'EnvironmentSatisfaction', 'JobInvolvement', 'WorkLifeBalance','OverTime', 'StockOptionLevel', 'YearsSinceLastPromotion', 'PerformanceRating']]"
   ]
  },
  {
   "cell_type": "code",
   "execution_count": 6,
   "metadata": {},
   "outputs": [],
   "source": [
    "# Normalizing numerical features so that each feature has mean 0 and variance 1\n",
    "feature_scaler = StandardScaler()\n",
    "X1 = feature_scaler.fit_transform(subset1)\n",
    "X2 = feature_scaler.fit_transform(subset2)\n",
    "X3 = feature_scaler.fit_transform(subset3)\n",
    "X4 = feature_scaler.fit_transform(subset4)"
   ]
  },
  {
   "cell_type": "code",
   "execution_count": 7,
   "metadata": {},
   "outputs": [
    {
     "data": {
      "image/png": "[encoded data removed]",
      "text/plain": [
       "<Figure size 432x288 with 1 Axes>"
      ]
     },
     "metadata": {
      "needs_background": "light"
     },
     "output_type": "display_data"
    },
    {
     "data": {
      "text/plain": [
       "KMeans(algorithm='auto', copy_x=True, init='k-means++', max_iter=300,\n",
       "       n_clusters=2, n_init=10, n_jobs=None, precompute_distances='auto',\n",
       "       random_state=None, tol=0.0001, verbose=0)"
      ]
     },
     "execution_count": 7,
     "metadata": {},
     "output_type": "execute_result"
    }
   ],
   "source": [
    "# Analysis on subset1 - Personal Data\n",
    "# Finding the number of clusters (K) - Elbow Plot Method\n",
    "inertia = []\n",
    "for i in range(1,11):\n",
    "    kmeans = KMeans(n_clusters = i, random_state = 100)\n",
    "    kmeans.fit(X1)\n",
    "    inertia.append(kmeans.inertia_)\n",
    "\n",
    "plt.plot(range(1, 11), inertia)\n",
    "plt.title('The Elbow Plot')\n",
    "plt.xlabel('Number of clusters')\n",
    "plt.ylabel('Inertia')\n",
    "plt.show()\n",
    "\n",
    "# Running KMeans to generate labels\n",
    "kmeans = KMeans(n_clusters = 2)\n",
    "kmeans.fit(X1)"
   ]
  },
  {
   "cell_type": "code",
   "execution_count": 8,
   "metadata": {},
   "outputs": [
    {
     "data": {
      "text/plain": [
       "'t-SNE1.html'"
      ]
     },
     "execution_count": 8,
     "metadata": {},
     "output_type": "execute_result"
    }
   ],
   "source": [
    "# Implementing t-SNE to visualize dataset\n",
    "tsne = TSNE(n_components = 2, perplexity =30,n_iter=2000)\n",
    "x_tsne = tsne.fit_transform(X1)\n",
    "\n",
    "age = list(X['Age'])\n",
    "gender = list(X['Gender'])\n",
    "marital = list(X['MaritalStatus'])\n",
    "education = list(X['Education'])\n",
    "educationfield = list(X['EducationField'])\n",
    "distance = list(X['DistanceFromHome'])\n",
    "data = [go.Scatter(x=x_tsne[:,0], y=x_tsne[:,1], mode='markers',\n",
    "                    marker = dict(color=kmeans.labels_, colorscale='Rainbow', opacity=0.5),\n",
    "                                text=[f'Age: {a}; Gender: {b}; MaritalStatus:{c}, Education:{d}, EducationField:{e}, DistanceFromHome:{f}' for a,b,c,d,e,f in list(zip(age,gender,marital,education,educationfield,distance))],\n",
    "                                hoverinfo='text')]\n",
    "\n",
    "layout = go.Layout(title = 't-SNE Dimensionality Reduction', width = 700, height = 700,\n",
    "                    xaxis = dict(title='First Dimension'),\n",
    "                    yaxis = dict(title='Second Dimension'))\n",
    "fig = go.Figure(data=data, layout=layout)\n",
    "offline.plot(fig,filename='t-SNE1.html')"
   ]
  },
  {
   "cell_type": "code",
   "execution_count": 9,
   "metadata": {},
   "outputs": [
    {
     "data": {
      "image/png": "[encoded data removed]",
      "text/plain": [
       "<Figure size 432x288 with 1 Axes>"
      ]
     },
     "metadata": {
      "needs_background": "light"
     },
     "output_type": "display_data"
    },
    {
     "data": {
      "text/plain": [
       "KMeans(algorithm='auto', copy_x=True, init='k-means++', max_iter=300,\n",
       "       n_clusters=2, n_init=10, n_jobs=None, precompute_distances='auto',\n",
       "       random_state=None, tol=0.0001, verbose=0)"
      ]
     },
     "execution_count": 9,
     "metadata": {},
     "output_type": "execute_result"
    }
   ],
   "source": [
    "# Analysis on subset2 - Work Data\n",
    "# Finding the number of clusters (K) - Elbow Plot Method\n",
    "inertia = []\n",
    "for i in range(1,11):\n",
    "    kmeans = KMeans(n_clusters = i, random_state = 100)\n",
    "    kmeans.fit(X2)\n",
    "    inertia.append(kmeans.inertia_)\n",
    "\n",
    "plt.plot(range(1, 11), inertia)\n",
    "plt.title('The Elbow Plot')\n",
    "plt.xlabel('Number of clusters')\n",
    "plt.ylabel('Inertia')\n",
    "plt.show()\n",
    "\n",
    "# Running KMeans to generate labels\n",
    "kmeans = KMeans(n_clusters = 2)\n",
    "kmeans.fit(X2)"
   ]
  },
  {
   "cell_type": "code",
   "execution_count": 10,
   "metadata": {},
   "outputs": [
    {
     "data": {
      "text/plain": [
       "'t-SNE2.html'"
      ]
     },
     "execution_count": 10,
     "metadata": {},
     "output_type": "execute_result"
    }
   ],
   "source": [
    "# Implementing t-SNE to visualize dataset\n",
    "tsne = TSNE(n_components = 2, perplexity =50,n_iter=2000)\n",
    "x_tsne = tsne.fit_transform(X2)\n",
    "\n",
    "dep = list(X['Department'])\n",
    "btravel = list(X['BusinessTravel'])\n",
    "ot = list(X['OverTime'])\n",
    "solevel = list(X['StockOptionLevel'])\n",
    "ttly = list(X['TrainingTimesLastYear'])\n",
    "yslp = list(X['YearsSinceLastPromotion'])\n",
    "prating = list(X['PerformanceRating'])\n",
    "data = [go.Scatter(x=x_tsne[:,0], y=x_tsne[:,1], mode='markers',\n",
    "                    marker = dict(color=kmeans.labels_, colorscale='Rainbow', opacity=0.5),\n",
    "                                text=[f'dep: {a}; btravel: {b}; ot:{c}, solevel:{d}, ttly:{e}, yslp:{f}, prating:{g}' for a,b,c,d,e,f,g in list(zip(dep,btravel,ot,solevel,ttly,yslp,prating))],\n",
    "                                hoverinfo='text')]\n",
    "\n",
    "layout = go.Layout(title = 't-SNE Dimensionality Reduction', width = 1000, height = 700,\n",
    "                    xaxis = dict(title='First Dimension'),\n",
    "                    yaxis = dict(title='Second Dimension'))\n",
    "fig = go.Figure(data=data, layout=layout)\n",
    "offline.plot(fig,filename='t-SNE2.html')"
   ]
  },
  {
   "cell_type": "code",
   "execution_count": 13,
   "metadata": {},
   "outputs": [
    {
     "data": {
      "image/png": "[encoded data removed]",
      "text/plain": [
       "<Figure size 432x288 with 1 Axes>"
      ]
     },
     "metadata": {
      "needs_background": "light"
     },
     "output_type": "display_data"
    },
    {
     "data": {
      "text/plain": [
       "KMeans(algorithm='auto', copy_x=True, init='k-means++', max_iter=300,\n",
       "       n_clusters=2, n_init=10, n_jobs=None, precompute_distances='auto',\n",
       "       random_state=None, tol=0.0001, verbose=0)"
      ]
     },
     "execution_count": 13,
     "metadata": {},
     "output_type": "execute_result"
    }
   ],
   "source": [
    "# Analysis on subset3 - Life Quality Data\n",
    "# Finding the number of clusters (K) - Elbow Plot Method\n",
    "inertia = []\n",
    "for i in range(1,11):\n",
    "    kmeans = KMeans(n_clusters = i, random_state = 100)\n",
    "    kmeans.fit(X3)\n",
    "    inertia.append(kmeans.inertia_)\n",
    "\n",
    "plt.plot(range(1, 11), inertia)\n",
    "plt.title('The Elbow Plot')\n",
    "plt.xlabel('Number of clusters')\n",
    "plt.ylabel('Inertia')\n",
    "plt.show()\n",
    "\n",
    "# Running KMeans to generate labels\n",
    "kmeans = KMeans(n_clusters = 2)\n",
    "kmeans.fit(X3)"
   ]
  },
  {
   "cell_type": "code",
   "execution_count": 14,
   "metadata": {},
   "outputs": [
    {
     "data": {
      "text/plain": [
       "'t-SNE3.html'"
      ]
     },
     "execution_count": 14,
     "metadata": {},
     "output_type": "execute_result"
    }
   ],
   "source": [
    "# Implementing t-SNE to visualize dataset\n",
    "tsne = TSNE(n_components = 2, perplexity =30,n_iter=2000)\n",
    "x_tsne = tsne.fit_transform(X3)\n",
    "\n",
    "jsatifaction = list(X['JobSatisfaction'])\n",
    "esatisfaction = list(X['EnvironmentSatisfaction'])\n",
    "ji = list(X['JobInvolvement'])\n",
    "wlb = list(X['WorkLifeBalance'])\n",
    "\n",
    "data = [go.Scatter(x=x_tsne[:,0], y=x_tsne[:,1], mode='markers',\n",
    "                    marker = dict(color=kmeans.labels_, colorscale='Rainbow', opacity=0.5),\n",
    "                                text=[f'jsatisfaction: {a}; esatisfaction: {b}; ji:{c}, wlb:{d}' for a,b,c,d in list(zip(jsatifaction,esatisfaction,ji,wlb))],\n",
    "                                hoverinfo='text')]\n",
    "\n",
    "layout = go.Layout(title = 't-SNE Dimensionality Reduction', width = 1000, height = 700,\n",
    "                    xaxis = dict(title='First Dimension'),\n",
    "                    yaxis = dict(title='Second Dimension'))\n",
    "fig = go.Figure(data=data, layout=layout)\n",
    "offline.plot(fig,filename='t-SNE3.html')"
   ]
  },
  {
   "cell_type": "code",
   "execution_count": 11,
   "metadata": {},
   "outputs": [
    {
     "data": {
      "image/png": "[encoded data removed]",
      "text/plain": [
       "<Figure size 432x288 with 1 Axes>"
      ]
     },
     "metadata": {
      "needs_background": "light"
     },
     "output_type": "display_data"
    },
    {
     "data": {
      "text/plain": [
       "KMeans(algorithm='auto', copy_x=True, init='k-means++', max_iter=300,\n",
       "       n_clusters=2, n_init=10, n_jobs=None, precompute_distances='auto',\n",
       "       random_state=None, tol=0.0001, verbose=0)"
      ]
     },
     "execution_count": 11,
     "metadata": {},
     "output_type": "execute_result"
    }
   ],
   "source": [
    "# Analysis on subset4 - Churn Factos\n",
    "# Finding the number of clusters (K) - Elbow Plot Method\n",
    "inertia = []\n",
    "for i in range(1,11):\n",
    "    kmeans = KMeans(n_clusters = i, random_state = 100)\n",
    "    kmeans.fit(X4)\n",
    "    inertia.append(kmeans.inertia_)\n",
    "\n",
    "plt.plot(range(1, 11), inertia)\n",
    "plt.title('The Elbow Plot')\n",
    "plt.xlabel('Number of clusters')\n",
    "plt.ylabel('Inertia')\n",
    "plt.show()\n",
    "\n",
    "# Running KMeans to generate labels\n",
    "kmeans = KMeans(n_clusters = 2)\n",
    "kmeans.fit(X4)"
   ]
  },
  {
   "cell_type": "code",
   "execution_count": 12,
   "metadata": {},
   "outputs": [
    {
     "data": {
      "text/plain": [
       "'t-SNE4.html'"
      ]
     },
     "execution_count": 12,
     "metadata": {},
     "output_type": "execute_result"
    }
   ],
   "source": [
    "# Implementing t-SNE to visualize dataset\n",
    "tsne = TSNE(n_components = 2, perplexity =30,n_iter=2000)\n",
    "x_tsne = tsne.fit_transform(X4)\n",
    "\n",
    "jsatisfaction = list(X['JobSatisfaction'])\n",
    "esatisfaction = list(X['EnvironmentSatisfaction'])\n",
    "ji = list(X['JobInvolvement'])\n",
    "wlb = list(X['WorkLifeBalance'])\n",
    "ot = list(X['OverTime'])\n",
    "solevel = list(X['StockOptionLevel'])\n",
    "yslp = list(X['YearsSinceLastPromotion'])\n",
    "prating = list(X['PerformanceRating'])\n",
    "data = [go.Scatter(x=x_tsne[:,0], y=x_tsne[:,1], mode='markers',\n",
    "                    marker = dict(color=kmeans.labels_, colorscale='Rainbow', opacity=0.5),\n",
    "                                text=[f'jsatisfaction: {a}; esatisfaction: {b}; ji:{c}, wlb:{d}, ot:{e}, solevel:{f}, yslp:{g}, prating:{h}' for a,b,c,d,e,f,g,h in list(zip(jsatisfaction,esatisfaction,ji,wlb,ot,solevel,yslp,prating))],\n",
    "                                hoverinfo='text')]\n",
    "\n",
    "layout = go.Layout(title = 't-SNE Dimensionality Reduction', width = 1000, height = 700,\n",
    "                    xaxis = dict(title='First Dimension'),\n",
    "                    yaxis = dict(title='Second Dimension'))\n",
    "fig = go.Figure(data=data, layout=layout)\n",
    "offline.plot(fig,filename='t-SNE4.html')"
   ]
  },
  {
   "cell_type": "code",
   "execution_count": null,
   "metadata": {},
   "outputs": [],
   "source": []
  }
 ],
 "metadata": {
  "kernelspec": {
   "display_name": "Python 3",
   "language": "python",
   "name": "python3"
  },
  "language_info": {
   "codemirror_mode": {
    "name": "ipython",
    "version": 3
   },
   "file_extension": ".py",
   "mimetype": "text/x-python",
   "name": "python",
   "nbconvert_exporter": "python",
   "pygments_lexer": "ipython3",
   "version": "3.7.4"
  }
 },
 "nbformat": 4,
 "nbformat_minor": 2
}
